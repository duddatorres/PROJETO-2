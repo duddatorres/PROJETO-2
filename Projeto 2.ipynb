{
 "cells": [
  {
   "cell_type": "markdown",
   "metadata": {},
   "source": [
    "# Projeto 2 Ciência dos Dados #\n",
    "\n",
    "Giancarlo Vanoni Ruggiero\n",
    "\n",
    "Maria Eduarda Torres\n",
    "\n",
    "Rodrigo Vilela"
   ]
  },
  {
   "cell_type": "code",
   "execution_count": 3,
   "metadata": {},
   "outputs": [],
   "source": [
    "%matplotlib inline\n",
    "import pandas as pd\n",
    "import matplotlib.pyplot as plt\n",
    "import numpy as np\n",
    "import os\n",
    "import re \n",
    "import numpy\n",
    "import itertools\n",
    "import collections\n",
    "import functools\n",
    "import operator\n",
    "import emoji"
   ]
  },
  {
   "cell_type": "code",
   "execution_count": 7,
   "metadata": {
    "scrolled": true
   },
   "outputs": [
    {
     "data": {
      "text/html": [
       "<div>\n",
       "<style scoped>\n",
       "    .dataframe tbody tr th:only-of-type {\n",
       "        vertical-align: middle;\n",
       "    }\n",
       "\n",
       "    .dataframe tbody tr th {\n",
       "        vertical-align: top;\n",
       "    }\n",
       "\n",
       "    .dataframe thead th {\n",
       "        text-align: right;\n",
       "    }\n",
       "</style>\n",
       "<table border=\"1\" class=\"dataframe\">\n",
       "  <thead>\n",
       "    <tr style=\"text-align: right;\">\n",
       "      <th></th>\n",
       "      <th>age</th>\n",
       "      <th>sex</th>\n",
       "      <th>cp</th>\n",
       "      <th>trtbps</th>\n",
       "      <th>chol</th>\n",
       "      <th>fbs</th>\n",
       "      <th>restecg</th>\n",
       "      <th>thalachh</th>\n",
       "      <th>exng</th>\n",
       "      <th>oldpeak</th>\n",
       "      <th>slp</th>\n",
       "      <th>caa</th>\n",
       "      <th>thall</th>\n",
       "      <th>output</th>\n",
       "    </tr>\n",
       "  </thead>\n",
       "  <tbody>\n",
       "    <tr>\n",
       "      <th>0</th>\n",
       "      <td>63</td>\n",
       "      <td>1</td>\n",
       "      <td>3</td>\n",
       "      <td>145</td>\n",
       "      <td>233</td>\n",
       "      <td>1</td>\n",
       "      <td>0</td>\n",
       "      <td>150</td>\n",
       "      <td>0</td>\n",
       "      <td>2.3</td>\n",
       "      <td>0</td>\n",
       "      <td>0</td>\n",
       "      <td>1</td>\n",
       "      <td>1</td>\n",
       "    </tr>\n",
       "    <tr>\n",
       "      <th>1</th>\n",
       "      <td>37</td>\n",
       "      <td>1</td>\n",
       "      <td>2</td>\n",
       "      <td>130</td>\n",
       "      <td>250</td>\n",
       "      <td>0</td>\n",
       "      <td>1</td>\n",
       "      <td>187</td>\n",
       "      <td>0</td>\n",
       "      <td>3.5</td>\n",
       "      <td>0</td>\n",
       "      <td>0</td>\n",
       "      <td>2</td>\n",
       "      <td>1</td>\n",
       "    </tr>\n",
       "    <tr>\n",
       "      <th>2</th>\n",
       "      <td>41</td>\n",
       "      <td>0</td>\n",
       "      <td>1</td>\n",
       "      <td>130</td>\n",
       "      <td>204</td>\n",
       "      <td>0</td>\n",
       "      <td>0</td>\n",
       "      <td>172</td>\n",
       "      <td>0</td>\n",
       "      <td>1.4</td>\n",
       "      <td>2</td>\n",
       "      <td>0</td>\n",
       "      <td>2</td>\n",
       "      <td>1</td>\n",
       "    </tr>\n",
       "    <tr>\n",
       "      <th>3</th>\n",
       "      <td>56</td>\n",
       "      <td>1</td>\n",
       "      <td>1</td>\n",
       "      <td>120</td>\n",
       "      <td>236</td>\n",
       "      <td>0</td>\n",
       "      <td>1</td>\n",
       "      <td>178</td>\n",
       "      <td>0</td>\n",
       "      <td>0.8</td>\n",
       "      <td>2</td>\n",
       "      <td>0</td>\n",
       "      <td>2</td>\n",
       "      <td>1</td>\n",
       "    </tr>\n",
       "    <tr>\n",
       "      <th>4</th>\n",
       "      <td>57</td>\n",
       "      <td>0</td>\n",
       "      <td>0</td>\n",
       "      <td>120</td>\n",
       "      <td>354</td>\n",
       "      <td>0</td>\n",
       "      <td>1</td>\n",
       "      <td>163</td>\n",
       "      <td>1</td>\n",
       "      <td>0.6</td>\n",
       "      <td>2</td>\n",
       "      <td>0</td>\n",
       "      <td>2</td>\n",
       "      <td>1</td>\n",
       "    </tr>\n",
       "  </tbody>\n",
       "</table>\n",
       "</div>"
      ],
      "text/plain": [
       "   age  sex  cp  trtbps  chol  fbs  restecg  thalachh  exng  oldpeak  slp  \\\n",
       "0   63    1   3     145   233    1        0       150     0      2.3    0   \n",
       "1   37    1   2     130   250    0        1       187     0      3.5    0   \n",
       "2   41    0   1     130   204    0        0       172     0      1.4    2   \n",
       "3   56    1   1     120   236    0        1       178     0      0.8    2   \n",
       "4   57    0   0     120   354    0        1       163     1      0.6    2   \n",
       "\n",
       "   caa  thall  output  \n",
       "0    0      1       1  \n",
       "1    0      2       1  \n",
       "2    0      2       1  \n",
       "3    0      2       1  \n",
       "4    0      2       1  "
      ]
     },
     "execution_count": 7,
     "metadata": {},
     "output_type": "execute_result"
    }
   ],
   "source": [
    "data = 'heart.xlsx'\n",
    "dados = pd.read_excel( data)\n",
    "dados.head(5)"
   ]
  },
  {
   "cell_type": "markdown",
   "metadata": {},
   "source": [
    "### Legenda do dataset\n",
    "\n",
    "* **idade** - idade em anos\n",
    "\n",
    "* **sexo** - sexo (1 = masculino; 0 = feminino)\n",
    "\n",
    "* **cp** - tipo de dor torácica (1 = angina típica; 2 = angina atípica; 3 = dor não anginosa; 0 = assintomática)\n",
    "\n",
    "* **trestbps** - pressão arterial em repouso (em mm Hg na admissão ao hospital)\n",
    "\n",
    "* **col** - colesterol sérico em mg / dl\n",
    "\n",
    "* **fbs** - açúcar no sangue em jejum> 120 mg / dl (1 = verdadeiro; 0 = falso)\n",
    "\n",
    "* **restecg** - resultados eletrocardiográficos em repouso (1 = normal; 2 = tendo anormalidade da onda ST-T; 0 = hipertrofia)\n",
    "\n",
    "* **thalach** - frequência cardíaca máxima alcançada\n",
    "\n",
    "* **exang** - angina induzida por exercício (1 = sim; 0 = não)\n",
    "\n",
    "* **oldpeak** - depressão de ST induzida por exercícios em relação ao repouso\n",
    "\n",
    "* **slope** - a inclinação do segmento ST de pico do exercício (2 = inclinação para cima; 1 = plana; 0 = inclinação para baixo)\n",
    "\n",
    "* **caa** - número de vasos principais (0-3) coloridos por fluorosopia\n",
    "\n",
    "* **thal** - 2 = normal; 1 = defeito corrigido; 3 = defeito reversível\n",
    "\n",
    "* **output (target)** - o atributo previsto - diagnóstico de doença cardíaca (status da doença angiográfica) (Valor 0 = <estreitamento do diâmetro; Valor 1 => estreitamento do diâmetro de 50%)"
   ]
  },
  {
   "cell_type": "markdown",
   "metadata": {},
   "source": [
    "### O que vamos analisar?\n",
    "\n",
    "Objetivo do projeto é analisar se a chance de um paciente ter ataque cardíaco é alta ou baixa, em função das features do dataset."
   ]
  },
  {
   "cell_type": "markdown",
   "metadata": {},
   "source": [
    "### Análise exploratória \n",
    "\n",
    "**Target**: qualitativo\n",
    "\n",
    "* **sexo** - qualitativo\n",
    "\n",
    "* **cp** - qualitativo\n",
    "\n",
    "* **fbs** - qualitativo\n",
    "\n",
    "* **restecg** - qualitativo\n",
    "\n",
    "* **exang** - qualitativo\n",
    "\n",
    "* **slope** - qualitativo\n",
    "\n",
    "* **caa** - qualitativo\n",
    "\n",
    "* **thal** - qualitativo\n",
    "-----\n",
    "* **idade** - quantitativo\n",
    "\n",
    "* **trestbps** - quantitativo\n",
    "\n",
    "* **col** - quantitativo\n",
    "\n",
    "* **thalach** - quantitativo\n",
    "\n",
    "* **oldpeak** - quantitativo"
   ]
  },
  {
   "cell_type": "markdown",
   "metadata": {},
   "source": [
    "### Idade"
   ]
  },
  {
   "cell_type": "code",
   "execution_count": 26,
   "metadata": {},
   "outputs": [],
   "source": [
    "maior_chance=dados.loc[dados['output']==1,:]\n",
    "menor_chance=dados.loc[dados['output']==0,:]\n",
    "\n",
    "idade_maior=maior_chance['age']\n",
    "idade_menor=menor_chance['age']"
   ]
  },
  {
   "cell_type": "code",
   "execution_count": 30,
   "metadata": {},
   "outputs": [
    {
     "data": {
      "image/png": "[encoded data removed]",
      "text/plain": [
       "<Figure size 1080x360 with 2 Axes>"
      ]
     },
     "metadata": {
      "needs_background": "light"
     },
     "output_type": "display_data"
    }
   ],
   "source": [
    "plt.figure(figsize=(15, 5))\n",
    "\n",
    "plt.subplot(121)\n",
    "plt.hist(idade_maior, bins=20, edgecolor='black', color='darkorange', density=True)\n",
    "plt.title('Densidade de idade dos pacientes com maior chance')\n",
    "plt.ylabel('Densidade')\n",
    "plt.xlabel('Idade')\n",
    "\n",
    "plt.subplot(122)\n",
    "plt.hist(idade_menor, bins=20, edgecolor='black', color='green', density=True)\n",
    "plt.title('Densidade de idade dos pacientes com menor chance')\n",
    "plt.ylabel('Densidade')\n",
    "plt.xlabel('Idade')\n",
    "\n",
    "plt.show()"
   ]
  },
  {
   "cell_type": "markdown",
   "metadata": {},
   "source": [
    "### Interpretação"
   ]
  },
  {
   "cell_type": "markdown",
   "metadata": {},
   "source": [
    "-----------------"
   ]
  },
  {
   "cell_type": "markdown",
   "metadata": {},
   "source": [
    "### Pressão arterial"
   ]
  },
  {
   "cell_type": "code",
   "execution_count": 33,
   "metadata": {},
   "outputs": [
    {
     "data": {
      "image/png": "[encoded data removed]",
      "text/plain": [
       "<Figure size 1080x360 with 2 Axes>"
      ]
     },
     "metadata": {
      "needs_background": "light"
     },
     "output_type": "display_data"
    }
   ],
   "source": [
    "pressao_maior=maior_chance['trtbps']\n",
    "pressao_menor=menor_chance['trtbps']\n",
    "\n",
    "plt.figure(figsize=(15, 5))\n",
    "\n",
    "plt.subplot(121)\n",
    "plt.hist(pressao_maior, bins=20, edgecolor='black', color='darkorange', density=True)\n",
    "plt.title('Densidade de pressão arterial dos pacientes com maior chance')\n",
    "plt.ylabel('Densidade')\n",
    "plt.xlabel('Pressão arterial')\n",
    "\n",
    "plt.subplot(122)\n",
    "plt.hist(pressao_menor, bins=20, edgecolor='black', color='green', density=True)\n",
    "plt.title('Densidade de pressão arterial com menor chance')\n",
    "plt.ylabel('Densidade')\n",
    "plt.xlabel('Pressão arterial')\n",
    "\n",
    "plt.show()"
   ]
  },
  {
   "cell_type": "markdown",
   "metadata": {},
   "source": [
    "### Colesterol"
   ]
  },
  {
   "cell_type": "code",
   "execution_count": 36,
   "metadata": {},
   "outputs": [
    {
     "data": {
      "image/png": "[encoded data removed]",
      "text/plain": [
       "<Figure size 1080x360 with 2 Axes>"
      ]
     },
     "metadata": {
      "needs_background": "light"
     },
     "output_type": "display_data"
    }
   ],
   "source": [
    "col_maior=maior_chance['chol']\n",
    "col_menor=menor_chance['chol']\n",
    "\n",
    "plt.figure(figsize=(15, 5))\n",
    "\n",
    "plt.subplot(121)\n",
    "plt.hist(col_maior, bins=20, edgecolor='black', color='darkorange', density=True)\n",
    "plt.title('Densidade de colesterol pacientes com maior chance')\n",
    "plt.ylabel('Densidade')\n",
    "plt.xlabel('Colesterol')\n",
    "\n",
    "plt.subplot(122)\n",
    "plt.hist(col_menor, bins=20, edgecolor='black', color='green', density=True)\n",
    "plt.title('Densidade de colesterol com menor chance')\n",
    "plt.ylabel('Densidade')\n",
    "plt.xlabel('Colesterol')\n",
    "\n",
    "plt.show()"
   ]
  },
  {
   "cell_type": "markdown",
   "metadata": {},
   "source": [
    "### Frequência cardíaca máxima alcançada"
   ]
  },
  {
   "cell_type": "code",
   "execution_count": 38,
   "metadata": {},
   "outputs": [
    {
     "data": {
      "image/png": "[encoded data removed]",
      "text/plain": [
       "<Figure size 1080x360 with 2 Axes>"
      ]
     },
     "metadata": {
      "needs_background": "light"
     },
     "output_type": "display_data"
    }
   ],
   "source": [
    "freq_maior=maior_chance['thalachh']\n",
    "freq_menor=menor_chance['thalachh']\n",
    "\n",
    "plt.figure(figsize=(15, 5))\n",
    "\n",
    "plt.subplot(121)\n",
    "plt.hist(freq_maior, bins=20, edgecolor='black', color='darkorange', density=True)\n",
    "plt.title('Densidade de frequência cardíaca máxima pacientes com maior chance')\n",
    "plt.ylabel('Densidade')\n",
    "plt.xlabel('Frequência cardíaca máxima')\n",
    "\n",
    "plt.subplot(122)\n",
    "plt.hist(freq_menor, bins=20, edgecolor='black', color='green', density=True)\n",
    "plt.title('Densidade de frequência cardíaca máxima pacientes com menor chance')\n",
    "plt.ylabel('Densidade')\n",
    "plt.xlabel('Frequência cardíaca máxima')\n",
    "\n",
    "plt.show()"
   ]
  },
  {
   "cell_type": "code",
   "execution_count": null,
   "metadata": {},
   "outputs": [],
   "source": []
  }
 ],
 "metadata": {
  "kernelspec": {
   "display_name": "Python 3",
   "language": "python",
   "name": "python3"
  },
  "language_info": {
   "codemirror_mode": {
    "name": "ipython",
    "version": 3
   },
   "file_extension": ".py",
   "mimetype": "text/x-python",
   "name": "python",
   "nbconvert_exporter": "python",
   "pygments_lexer": "ipython3",
   "version": "3.8.3"
  }
 },
 "nbformat": 4,
 "nbformat_minor": 4
}
